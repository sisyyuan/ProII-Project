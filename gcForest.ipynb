{
 "cells": [
  {
   "cell_type": "code",
   "execution_count": 1,
   "metadata": {},
   "outputs": [],
   "source": [
    "import numpy as np\n",
    "from sklearn import preprocessing\n",
    "from sklearn.model_selection import train_test_split\n",
    "from sklearn.datasets import load_iris\n",
    "from random import sample\n",
    "numofDrug = 708\n",
    "numofProtein = 1512\n",
    "featureFusion = list()\n",
    "positiveFeature = list()\n",
    "negativeFeature = list()\n",
    "featureLable = list()"
   ]
  },
  {
   "cell_type": "code",
   "execution_count": 2,
   "metadata": {},
   "outputs": [
    {
     "data": {
      "text/plain": [
       "1923"
      ]
     },
     "execution_count": 2,
     "metadata": {},
     "output_type": "execute_result"
    }
   ],
   "source": [
    "#def featureFusion(featureFile1,featureFile2,interactionFile):\n",
    "feature1 = np.loadtxt(\"DrugFeature.txt\")\n",
    "feature1Norm = preprocessing.normalize(feature1,axis = 0)\n",
    "feature2 = np.loadtxt(\"ProteinFeature.txt\")\n",
    "feature2Norm = preprocessing.normalize(feature2,axis = 0)\n",
    "np.savetxt(\"drugFeatureNorm.txt\",feature1Norm)\n",
    "np.savetxt(\"proteinFeatureNorm.txt\",feature2Norm)\n",
    "interaction = np.loadtxt(\"mat_drug_protein.txt\")\n",
    "np.shape(interaction)  \n",
    "for i in range(numofDrug):\n",
    "    for j in range(numofProtein):\n",
    "        if interaction[i][j]==1:\n",
    "            positiveFeature.append(np.concatenate((feature1Norm[i],feature2Norm[j]),axis = None))\n",
    "        else:\n",
    "            negativeFeature.append(np.concatenate((feature1Norm[i],feature2Norm[j]),axis = None))\n",
    "#         featureFusion.append(np.concatenate((feature1Norm[i],feature2Norm[j]),axis = None))\n",
    "#         featureLable.append(interaction[i][j])\n",
    "len(positiveFeature)"
   ]
  },
  {
   "cell_type": "code",
   "execution_count": 1,
   "metadata": {},
   "outputs": [],
   "source": [
    "# np.savetxt(\"featureFusion.txt\",featureFusion)\n",
    "# np.savetxt(\"featureLable.txt\",featureLable)\n",
    "#np.savetxt(\"positiveFeature.txt\",positiveFeature)\n",
    "#np.savetxt(\"negativeFeature.txt\",negativeFeature)"
   ]
  },
  {
   "cell_type": "code",
   "execution_count": 3,
   "metadata": {},
   "outputs": [
    {
     "data": {
      "text/plain": [
       "5769"
      ]
     },
     "execution_count": 3,
     "metadata": {},
     "output_type": "execute_result"
    }
   ],
   "source": [
    "negativeSamples = sample(negativeFeature,2*len(positiveFeature))\n",
    "inputData = list()\n",
    "inputData = np.concatenate((positiveFeature,negativeSamples))\n",
    "inputLable = np.repeat(np.array([1,0]),[len(positiveFeature),len(negativeSamples)],axis = 0)\n",
    "len(inputLable)"
   ]
  },
  {
   "cell_type": "markdown",
   "metadata": {},
   "source": [
    "SVM: 10 fold cross validation"
   ]
  },
  {
   "cell_type": "code",
   "execution_count": 22,
   "metadata": {},
   "outputs": [
    {
     "data": {
      "text/plain": [
       "array([[0.90092165, 0.09907835],\n",
       "       [0.167039  , 0.832961  ],\n",
       "       [0.78658255, 0.21341745],\n",
       "       ...,\n",
       "       [0.04918386, 0.95081614],\n",
       "       [0.35909781, 0.64090219],\n",
       "       [0.3195594 , 0.6804406 ]])"
      ]
     },
     "execution_count": 22,
     "metadata": {},
     "output_type": "execute_result"
    }
   ],
   "source": [
    "from sklearn import svm\n",
    "from sklearn.metrics import roc_curve, auc\n",
    "X_train,X_test,y_train,y_test = train_test_split(inputData,inputLable,test_size = 0.1, random_state = 0)\n",
    "modelSVM = svm.SVC(kernel = \"linear\",C=1,probability=True).fit(X_train,y_train)\n",
    "y_predict = modelSVM.predict_proba(X_test)\n",
    "# fpr,tpr,thresholds\n",
    "#modelSVM.score(X_test,y_test)"
   ]
  },
  {
   "cell_type": "code",
   "execution_count": 26,
   "metadata": {},
   "outputs": [
    {
     "data": {
      "text/plain": [
       "0.872829998941463"
      ]
     },
     "execution_count": 26,
     "metadata": {},
     "output_type": "execute_result"
    }
   ],
   "source": [
    "fpr,tpr,thresholds= roc_curve(y_test,y_predict[:,1]) #for positive\n",
    "roc_auc = auc(fpr,tpr)\n",
    "roc_auc"
   ]
  },
  {
   "cell_type": "code",
   "execution_count": 29,
   "metadata": {},
   "outputs": [
    {
     "data": {
      "image/png": "[encoded data removed]",
      "text/plain": [
       "<Figure size 432x288 with 1 Axes>"
      ]
     },
     "metadata": {
      "needs_background": "light"
     },
     "output_type": "display_data"
    }
   ],
   "source": [
    "import matplotlib.pyplot as plt\n",
    "plt.figure()\n",
    "lw = 2\n",
    "plt.plot(fpr,tpr,color = \"darkgreen\",lw = lw, label = \"ROC curve (area = %0.2f)\" % roc_auc)\n",
    "plt.plot([0,1],[0,1],color = 'darkorange',lw = lw, linestyle = \"--\")\n",
    "plt.xlabel(\"False Positive Rate\")\n",
    "plt.ylabel(\"True Positive Rate\")\n",
    "plt.title(\"Receiver Operating Characteristic\")\n",
    "plt.legend(loc = \"lower right\")\n",
    "plt.show()"
   ]
  },
  {
   "cell_type": "code",
   "execution_count": 10,
   "metadata": {},
   "outputs": [
    {
     "data": {
      "text/plain": [
       "array([0.82179931, 0.80622837, 0.80622837, 0.79202773, 0.80069324,\n",
       "       0.79202773, 0.77083333, 0.80902778, 0.84375   , 0.82986111])"
      ]
     },
     "execution_count": 10,
     "metadata": {},
     "output_type": "execute_result"
    }
   ],
   "source": [
    "from sklearn.model_selection import cross_val_score \n",
    "scoresSVM = cross_val_score(modelSVM,inputData,inputLable,cv=10)\n",
    "scoresSVM"
   ]
  },
  {
   "cell_type": "code",
   "execution_count": 11,
   "metadata": {},
   "outputs": [
    {
     "name": "stdout",
     "output_type": "stream",
     "text": [
      "Accuracy:0.81(+/- 0.04)\n"
     ]
    }
   ],
   "source": [
    "print(\"Accuracy:%0.2f(+/- %0.2f)\" % (scoresSVM.mean(),scoresSVM.std()*2))"
   ]
  },
  {
   "cell_type": "markdown",
   "metadata": {},
   "source": [
    "KNN: 10 fold cross validation"
   ]
  },
  {
   "cell_type": "code",
   "execution_count": 4,
   "metadata": {},
   "outputs": [],
   "source": [
    "from sklearn.model_selection import cross_val_score\n",
    "from sklearn.neighbors import KNeighborsClassifier\n",
    "knn = KNeighborsClassifier(n_neighbors=5)\n",
    "scoresKNN = cross_val_score(knn, inputData, inputLable, cv=10, scoring='accuracy')"
   ]
  },
  {
   "cell_type": "code",
   "execution_count": 5,
   "metadata": {},
   "outputs": [
    {
     "data": {
      "text/plain": [
       "array([0.55882353, 0.62456747, 0.59342561, 0.58405546, 0.60485269,\n",
       "       0.55459272, 0.59027778, 0.578125  , 0.60243056, 0.59375   ])"
      ]
     },
     "execution_count": 5,
     "metadata": {},
     "output_type": "execute_result"
    }
   ],
   "source": [
    "scoresKNN"
   ]
  },
  {
   "cell_type": "code",
   "execution_count": 16,
   "metadata": {},
   "outputs": [
    {
     "name": "stdout",
     "output_type": "stream",
     "text": [
      "Accuracy:0.58(+/- 0.02)\n"
     ]
    }
   ],
   "source": [
    "print(\"Accuracy:%0.2f(+/- %0.2f)\" % (scoresKNN.mean(),scoresKNN.std()*2))"
   ]
  },
  {
   "cell_type": "markdown",
   "metadata": {},
   "source": [
    "gcForest "
   ]
  },
  {
   "cell_type": "code",
   "execution_count": null,
   "metadata": {},
   "outputs": [],
   "source": [
    "import argparse\n",
    "import numpy as np\n",
    "import sys\n",
    "from keras.datasets import mnist\n",
    "import pickle\n",
    "from sklearn.ensemble import RandomForestClassifier\n",
    "from sklearn.metrics import accuracy_score\n",
    "sys.path.insert(0, \"lib\")\n",
    "\n",
    "from gcforest.gcforest import GCForest\n",
    "from gcforest.utils.config_utils import load_json\n",
    "\n",
    "def parse_args():\n",
    "    parser = argparse.ArgumentParser()\n",
    "    parser.add_argument(\"--model\", dest=\"model\", type=str, default=None, help=\"gcfoest Net Model File\")\n",
    "    args = parser.parse_args()\n",
    "    return args\n",
    "\n",
    "def get_toy_config():\n",
    "    config = {}\n",
    "    ca_config = {}\n",
    "    ca_config[\"random_state\"] = 0\n",
    "    ca_config[\"max_layers\"] = 100\n",
    "    ca_config[\"early_stopping_rounds\"] = 3\n",
    "    ca_config[\"n_classes\"] = 2\n",
    "    ca_config[\"estimators\"] = []\n",
    "    ca_config[\"estimators\"].append(\n",
    "            {\"n_folds\": 5, \"type\": \"XGBClassifier\", \"n_estimators\": 10, \"max_depth\": 5,\n",
    "             \"objective\": \"multi:softprob\", \"silent\": True, \"nthread\": -1, \"learning_rate\": 0.1} )\n",
    "    ca_config[\"estimators\"].append({\"n_folds\": 5, \"type\": \"RandomForestClassifier\", \"n_estimators\": 10, \"max_depth\": None, \"n_jobs\": -1})\n",
    "    ca_config[\"estimators\"].append({\"n_folds\": 5, \"type\": \"ExtraTreesClassifier\", \"n_estimators\": 10, \"max_depth\": None, \"n_jobs\": -1})\n",
    "    ca_config[\"estimators\"].append({\"n_folds\": 5, \"type\": \"LogisticRegression\"})\n",
    "    config[\"cascade\"] = ca_config\n",
    "    return config\n",
    "\n",
    "if __name__ == \"__main__\":\n",
    "    args = parse_args()\n",
    "    if args.model is None:\n",
    "        config = get_toy_config()\n",
    "    else:\n",
    "        config = load_json(args.model)\n",
    "\n",
    "    gc = GCForest(config)\n",
    "    # If the model you use cost too much memory for you.\n",
    "    # You can use these methods to force gcforest not keeping model in memory\n",
    "    # gc.set_keep_model_in_mem(False), default is TRUE.\n",
    "\n",
    "    (X_train, y_train), (X_test, y_test) = mnist.load_data()\n",
    "    # X_train, y_train = X_train[:2000], y_train[:2000]\n",
    "    X_train = X_train[:, np.newaxis, :, :]\n",
    "    X_test = X_test[:, np.newaxis, :, :]\n",
    "\n",
    "\n",
    "    X_train_enc = gc.fit_transform(X_train, y_train)\n",
    "    # X_enc is the concatenated predict_proba result of each estimators of the last layer of the GCForest model\n",
    "    # X_enc.shape =\n",
    "    #   (n_datas, n_estimators * n_classes): If cascade is provided\n",
    "    #   (n_datas, n_estimators * n_classes, dimX, dimY): If only finegrained part is provided\n",
    "    # You can also pass X_test, y_test to fit_transform method, then the accracy on test data will be logged when training.\n",
    "    # X_train_enc, X_test_enc = gc.fit_transform(X_train, y_train, X_test=X_test, y_test=y_test)\n",
    "    # WARNING: if you set gc.set_keep_model_in_mem(True), you would have to use\n",
    "    # gc.fit_transform(X_train, y_train, X_test=X_test, y_test=y_test) to evaluate your model.\n",
    "    \n",
    "    y_pred = gc.predict(X_test)\n",
    "    acc = accuracy_score(y_test, y_pred)\n",
    "    print(\"Test Accuracy of GcForest = {:.2f} %\".format(acc * 100))\n",
    "\n",
    "    # You can try passing X_enc to another classfier on top of gcForest.e.g. xgboost/RF.\n",
    "    X_test_enc = gc.transform(X_test)\n",
    "    X_train_enc = X_train_enc.reshape((X_train_enc.shape[0], -1))\n",
    "    X_test_enc = X_test_enc.reshape((X_test_enc.shape[0], -1))\n",
    "    X_train_origin = X_train.reshape((X_train.shape[0], -1))\n",
    "    X_test_origin = X_test.reshape((X_test.shape[0], -1))\n",
    "    X_train_enc = np.hstack((X_train_origin, X_train_enc))\n",
    "    X_test_enc = np.hstack((X_test_origin, X_test_enc))\n",
    "    print(\"X_train_enc.shape={}, X_test_enc.shape={}\".format(X_train_enc.shape, X_test_enc.shape))\n",
    "    clf = RandomForestClassifier(n_estimators=1000, max_depth=None, n_jobs=-1)\n",
    "    clf.fit(X_train_enc, y_train)\n",
    "    y_pred = clf.predict(X_test_enc)\n",
    "    acc = accuracy_score(y_test, y_pred)\n",
    "    print(\"Test Accuracy of Other classifier using gcforest's X_encode = {:.2f} %\".format(acc * 100))\n",
    "\n",
    "    # dump\n",
    "    with open(\"test.pkl\", \"wb\") as f:\n",
    "        pickle.dump(gc, f, pickle.HIGHEST_PROTOCOL)\n",
    "    # load\n",
    "    with open(\"test.pkl\", \"rb\") as f:\n",
    "        gc = pickle.load(f)\n",
    "    y_pred = gc.predict(X_test)\n",
    "    acc = accuracy_score(y_test, y_pred)\n",
    "    print(\"Test Accuracy of GcForest (save and load) = {:.2f} %\".format(acc * 100))"
   ]
  },
  {
   "cell_type": "code",
   "execution_count": 15,
   "metadata": {},
   "outputs": [
    {
     "ename": "NameError",
     "evalue": "name 'random_state' is not defined",
     "output_type": "error",
     "traceback": [
      "\u001b[0;31m---------------------------------------------------------------------------\u001b[0m",
      "\u001b[0;31mNameError\u001b[0m                                 Traceback (most recent call last)",
      "\u001b[0;32m<ipython-input-15-906e4dce1635>\u001b[0m in \u001b[0;36m<module>\u001b[0;34m\u001b[0m\n\u001b[1;32m      7\u001b[0m \u001b[0;31m# Run classifier with cross-validation and plot ROC curves\u001b[0m\u001b[0;34m\u001b[0m\u001b[0;34m\u001b[0m\u001b[0;34m\u001b[0m\u001b[0m\n\u001b[1;32m      8\u001b[0m \u001b[0mcv\u001b[0m \u001b[0;34m=\u001b[0m \u001b[0mStratifiedKFold\u001b[0m\u001b[0;34m(\u001b[0m\u001b[0mn_splits\u001b[0m\u001b[0;34m=\u001b[0m\u001b[0;36m6\u001b[0m\u001b[0;34m)\u001b[0m\u001b[0;34m\u001b[0m\u001b[0;34m\u001b[0m\u001b[0m\n\u001b[0;32m----> 9\u001b[0;31m \u001b[0mclassifier\u001b[0m \u001b[0;34m=\u001b[0m \u001b[0msvm\u001b[0m\u001b[0;34m.\u001b[0m\u001b[0mSVC\u001b[0m\u001b[0;34m(\u001b[0m\u001b[0mkernel\u001b[0m\u001b[0;34m=\u001b[0m\u001b[0;34m'linear'\u001b[0m\u001b[0;34m,\u001b[0m \u001b[0mprobability\u001b[0m\u001b[0;34m=\u001b[0m\u001b[0;32mTrue\u001b[0m\u001b[0;34m,\u001b[0m\u001b[0mrandom_state\u001b[0m\u001b[0;34m=\u001b[0m\u001b[0mrandom_state\u001b[0m\u001b[0;34m)\u001b[0m\u001b[0;34m\u001b[0m\u001b[0;34m\u001b[0m\u001b[0m\n\u001b[0m\u001b[1;32m     10\u001b[0m \u001b[0mtprs\u001b[0m \u001b[0;34m=\u001b[0m \u001b[0;34m[\u001b[0m\u001b[0;34m]\u001b[0m\u001b[0;34m\u001b[0m\u001b[0;34m\u001b[0m\u001b[0m\n\u001b[1;32m     11\u001b[0m \u001b[0maucs\u001b[0m \u001b[0;34m=\u001b[0m \u001b[0;34m[\u001b[0m\u001b[0;34m]\u001b[0m\u001b[0;34m\u001b[0m\u001b[0;34m\u001b[0m\u001b[0m\n",
      "\u001b[0;31mNameError\u001b[0m: name 'random_state' is not defined"
     ]
    }
   ],
   "source": [
    "from scipy import interp\n",
    "import matplotlib.pyplot as plt\n",
    "from sklearn.metrics import roc_curve, auc\n",
    "from sklearn.model_selection import StratifiedKFold\n",
    "X = inputData\n",
    "y = inputLable\n",
    "# Run classifier with cross-validation and plot ROC curves\n",
    "cv = StratifiedKFold(n_splits=6)\n",
    "classifier = svm.SVC(kernel='linear', probability=True,random_state=random_state)\n",
    "tprs = []\n",
    "aucs = []\n",
    "mean_fpr = np.linspace(0, 1, 100)\n",
    "i = 0\n",
    "for train, test in cv.split(X, y):\n",
    "    probas_ = classifier.fit(X[train], y[train]).predict_proba(X[test])\n",
    "    # Compute ROC curve and area the curve\n",
    "    fpr, tpr, thresholds = roc_curve(y[test], probas_[:, 1])\n",
    "    tprs.append(interp(mean_fpr, fpr, tpr))\n",
    "    tprs[-1][0] = 0.0\n",
    "    roc_auc = auc(fpr, tpr)\n",
    "    aucs.append(roc_auc)\n",
    "    plt.plot(fpr, tpr, lw=1, alpha=0.3,label='ROC fold %d (AUC = %0.2f)' % (i, roc_auc))\n",
    "    i += 1\n",
    "plt.plot([0, 1], [0, 1], linestyle='--', lw=2, color='r',label='Chance', alpha=.8)\n",
    "mean_tpr = np.mean(tprs, axis=0)\n",
    "mean_tpr[-1] = 1.0\n",
    "mean_auc = auc(mean_fpr, mean_tpr)\n",
    "std_auc = np.std(aucs)\n",
    "plt.plot(mean_fpr, mean_tpr, color='b',label=r'Mean ROC (AUC = %0.2f $\\pm$ %0.2f)' % (mean_auc, std_auc),lw=2, alpha=.8)\n",
    "std_tpr = np.std(tprs, axis=0)\n",
    "tprs_upper = np.minimum(mean_tpr + std_tpr, 1)\n",
    "tprs_lower = np.maximum(mean_tpr - std_tpr, 0)\n",
    "plt.fill_between(mean_fpr, tprs_lower, tprs_upper, color='grey', alpha=.2,label=r'$\\pm$ 1 std. dev.')\n",
    "plt.xlim([-0.05, 1.05])\n",
    "plt.ylim([-0.05, 1.05])\n",
    "plt.xlabel('False Positive Rate')\n",
    "plt.ylabel('True Positive Rate')\n",
    "plt.title('Receiver operating characteristic example')\n",
    "plt.legend(loc=\"lower right\")\n",
    "plt.show()\n"
   ]
  },
  {
   "cell_type": "code",
   "execution_count": null,
   "metadata": {},
   "outputs": [],
   "source": [
    "\n"
   ]
  },
  {
   "cell_type": "code",
   "execution_count": null,
   "metadata": {},
   "outputs": [],
   "source": []
  }
 ],
 "metadata": {
  "kernelspec": {
   "display_name": "Python 3",
   "language": "python",
   "name": "python3"
  },
  "language_info": {
   "codemirror_mode": {
    "name": "ipython",
    "version": 3
   },
   "file_extension": ".py",
   "mimetype": "text/x-python",
   "name": "python",
   "nbconvert_exporter": "python",
   "pygments_lexer": "ipython3",
   "version": "3.7.2"
  }
 },
 "nbformat": 4,
 "nbformat_minor": 2
}
