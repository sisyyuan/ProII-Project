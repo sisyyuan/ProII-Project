{
 "cells": [
  {
   "cell_type": "code",
   "execution_count": 12,
   "metadata": {},
   "outputs": [],
   "source": [
    "import numpy as np\n",
    "from sklearn import preprocessing\n",
    "numofDrug = 708\n",
    "numofProtein = 1512\n",
    "featureFusion = list()\n",
    "featureLable = list()"
   ]
  },
  {
   "cell_type": "code",
   "execution_count": 13,
   "metadata": {},
   "outputs": [
    {
     "data": {
      "text/plain": [
       "1070496"
      ]
     },
     "execution_count": 13,
     "metadata": {},
     "output_type": "execute_result"
    }
   ],
   "source": [
    "#def featureFusion(featureFile1,featureFile2,interactionFile):\n",
    "feature1 = np.loadtxt(\"DrugFeature.txt\")\n",
    "feature1Norm = preprocessing.normalize(feature1,axis = 0)\n",
    "feature2 = np.loadtxt(\"ProteinFeature.txt\")\n",
    "feature2Norm = preprocessing.normalize(feature2,axis = 0)\n",
    "interaction = np.loadtxt(\"mat_drug_protein.txt\")\n",
    "np.shape(interaction)  \n",
    "for i in range(numofDrug):\n",
    "    for j in range(numofProtein):\n",
    "        featureFusion.append(np.concatenate((feature1Norm[i],feature2Norm[j]),axis = None))\n",
    "        featureLable.append(interaction[i][j])len(featureFusion)\n",
    "len(featureLable)"
   ]
  },
  {
   "cell_type": "code",
   "execution_count": null,
   "metadata": {},
   "outputs": [],
   "source": [
    "np.savetxt(\"featureFusion.txt\",featureFusion)\n",
    "np.savetxt(\"featureLable.txt\",featureLable)"
   ]
  },
  {
   "cell_type": "code",
   "execution_count": null,
   "metadata": {},
   "outputs": [],
   "source": []
  }
 ],
 "metadata": {
  "kernelspec": {
   "display_name": "Python 3",
   "language": "python",
   "name": "python3"
  },
  "language_info": {
   "codemirror_mode": {
    "name": "ipython",
    "version": 3
   },
   "file_extension": ".py",
   "mimetype": "text/x-python",
   "name": "python",
   "nbconvert_exporter": "python",
   "pygments_lexer": "ipython3",
   "version": "3.7.2"
  }
 },
 "nbformat": 4,
 "nbformat_minor": 2
}
